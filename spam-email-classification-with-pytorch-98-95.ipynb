{
 "cells": [
  {
   "cell_type": "code",
   "execution_count": 1,
   "id": "ed87c190",
   "metadata": {
    "_cell_guid": "b1076dfc-b9ad-4769-8c92-a6c4dae69d19",
    "_uuid": "8f2839f25d086af736a60e9eeb907d3b93b6e0e5",
    "execution": {
     "iopub.execute_input": "2024-04-04T10:37:22.298944Z",
     "iopub.status.busy": "2024-04-04T10:37:22.298660Z",
     "iopub.status.idle": "2024-04-04T10:37:23.600816Z",
     "shell.execute_reply": "2024-04-04T10:37:23.599625Z"
    },
    "papermill": {
     "duration": 1.314767,
     "end_time": "2024-04-04T10:37:23.602998",
     "exception": false,
     "start_time": "2024-04-04T10:37:22.288231",
     "status": "completed"
    },
    "tags": []
   },
   "outputs": [
    {
     "name": "stdout",
     "output_type": "stream",
     "text": [
      "/kaggle/input/spam-email-dataset/emails.csv\n"
     ]
    }
   ],
   "source": [
    "import numpy as np \n",
    "import pandas as pd\n",
    "import matplotlib.pyplot as plt\n",
    "\n",
    "\n",
    "import os\n",
    "for dirname, _, filenames in os.walk('/kaggle/input'):\n",
    "    for filename in filenames:\n",
    "        print(os.path.join(dirname, filename))\n",
    "\n"
   ]
  },
  {
   "cell_type": "code",
   "execution_count": 2,
   "id": "88d1929c",
   "metadata": {
    "execution": {
     "iopub.execute_input": "2024-04-04T10:37:23.623905Z",
     "iopub.status.busy": "2024-04-04T10:37:23.623524Z",
     "iopub.status.idle": "2024-04-04T10:37:23.862333Z",
     "shell.execute_reply": "2024-04-04T10:37:23.861511Z"
    },
    "papermill": {
     "duration": 0.251067,
     "end_time": "2024-04-04T10:37:23.864463",
     "exception": false,
     "start_time": "2024-04-04T10:37:23.613396",
     "status": "completed"
    },
    "tags": []
   },
   "outputs": [
    {
     "data": {
      "text/html": [
       "<div>\n",
       "<style scoped>\n",
       "    .dataframe tbody tr th:only-of-type {\n",
       "        vertical-align: middle;\n",
       "    }\n",
       "\n",
       "    .dataframe tbody tr th {\n",
       "        vertical-align: top;\n",
       "    }\n",
       "\n",
       "    .dataframe thead th {\n",
       "        text-align: right;\n",
       "    }\n",
       "</style>\n",
       "<table border=\"1\" class=\"dataframe\">\n",
       "  <thead>\n",
       "    <tr style=\"text-align: right;\">\n",
       "      <th></th>\n",
       "      <th>text</th>\n",
       "      <th>spam</th>\n",
       "    </tr>\n",
       "  </thead>\n",
       "  <tbody>\n",
       "    <tr>\n",
       "      <th>0</th>\n",
       "      <td>Subject: naturally irresistible your corporate...</td>\n",
       "      <td>1</td>\n",
       "    </tr>\n",
       "    <tr>\n",
       "      <th>1</th>\n",
       "      <td>Subject: the stock trading gunslinger  fanny i...</td>\n",
       "      <td>1</td>\n",
       "    </tr>\n",
       "    <tr>\n",
       "      <th>2</th>\n",
       "      <td>Subject: unbelievable new homes made easy  im ...</td>\n",
       "      <td>1</td>\n",
       "    </tr>\n",
       "    <tr>\n",
       "      <th>3</th>\n",
       "      <td>Subject: 4 color printing special  request add...</td>\n",
       "      <td>1</td>\n",
       "    </tr>\n",
       "    <tr>\n",
       "      <th>4</th>\n",
       "      <td>Subject: do not have money , get software cds ...</td>\n",
       "      <td>1</td>\n",
       "    </tr>\n",
       "  </tbody>\n",
       "</table>\n",
       "</div>"
      ],
      "text/plain": [
       "                                                text  spam\n",
       "0  Subject: naturally irresistible your corporate...     1\n",
       "1  Subject: the stock trading gunslinger  fanny i...     1\n",
       "2  Subject: unbelievable new homes made easy  im ...     1\n",
       "3  Subject: 4 color printing special  request add...     1\n",
       "4  Subject: do not have money , get software cds ...     1"
      ]
     },
     "execution_count": 2,
     "metadata": {},
     "output_type": "execute_result"
    }
   ],
   "source": [
    "# First five rows\n",
    "df = pd.read_csv(\"/kaggle/input/spam-email-dataset/emails.csv\")\n",
    "df.head()"
   ]
  },
  {
   "cell_type": "code",
   "execution_count": 3,
   "id": "22b90936",
   "metadata": {
    "execution": {
     "iopub.execute_input": "2024-04-04T10:37:23.884062Z",
     "iopub.status.busy": "2024-04-04T10:37:23.883800Z",
     "iopub.status.idle": "2024-04-04T10:37:23.921606Z",
     "shell.execute_reply": "2024-04-04T10:37:23.920538Z"
    },
    "papermill": {
     "duration": 0.049514,
     "end_time": "2024-04-04T10:37:23.923470",
     "exception": false,
     "start_time": "2024-04-04T10:37:23.873956",
     "status": "completed"
    },
    "tags": []
   },
   "outputs": [
    {
     "name": "stdout",
     "output_type": "stream",
     "text": [
      "<class 'pandas.core.frame.DataFrame'>\n",
      "RangeIndex: 5728 entries, 0 to 5727\n",
      "Data columns (total 2 columns):\n",
      " #   Column  Non-Null Count  Dtype \n",
      "---  ------  --------------  ----- \n",
      " 0   text    5728 non-null   object\n",
      " 1   spam    5728 non-null   int64 \n",
      "dtypes: int64(1), object(1)\n",
      "memory usage: 89.6+ KB\n"
     ]
    }
   ],
   "source": [
    "# Information about the DataFrame\n",
    "df.info()"
   ]
  },
  {
   "cell_type": "code",
   "execution_count": 4,
   "id": "579916e0",
   "metadata": {
    "execution": {
     "iopub.execute_input": "2024-04-04T10:37:23.943159Z",
     "iopub.status.busy": "2024-04-04T10:37:23.942895Z",
     "iopub.status.idle": "2024-04-04T10:37:23.987426Z",
     "shell.execute_reply": "2024-04-04T10:37:23.986444Z"
    },
    "papermill": {
     "duration": 0.056874,
     "end_time": "2024-04-04T10:37:23.989332",
     "exception": false,
     "start_time": "2024-04-04T10:37:23.932458",
     "status": "completed"
    },
    "tags": []
   },
   "outputs": [
    {
     "name": "stdout",
     "output_type": "stream",
     "text": [
      "Duplicate value in this data: 33\n",
      "We are going to delete duplicate rows\n",
      "Successfully deleted duplicates (5695, 2)\n"
     ]
    }
   ],
   "source": [
    "print(f\"Duplicate value in this data: {df.duplicated().sum()}\")\n",
    "print(\"We are going to delete duplicate rows\")\n",
    "\n",
    "df.drop_duplicates(inplace=True)\n",
    "print(f\"Successfully deleted duplicates {df.shape}\")"
   ]
  },
  {
   "cell_type": "code",
   "execution_count": 5,
   "id": "d78e9ac8",
   "metadata": {
    "execution": {
     "iopub.execute_input": "2024-04-04T10:37:24.008735Z",
     "iopub.status.busy": "2024-04-04T10:37:24.008475Z",
     "iopub.status.idle": "2024-04-04T10:37:24.017157Z",
     "shell.execute_reply": "2024-04-04T10:37:24.016346Z"
    },
    "papermill": {
     "duration": 0.020944,
     "end_time": "2024-04-04T10:37:24.019324",
     "exception": false,
     "start_time": "2024-04-04T10:37:23.998380",
     "status": "completed"
    },
    "tags": []
   },
   "outputs": [
    {
     "data": {
      "text/plain": [
       "spam\n",
       "0    4327\n",
       "1    1368\n",
       "Name: count, dtype: int64"
      ]
     },
     "execution_count": 5,
     "metadata": {},
     "output_type": "execute_result"
    }
   ],
   "source": [
    "# Check how much data is imbalance?\n",
    "df['spam'].value_counts()"
   ]
  },
  {
   "cell_type": "code",
   "execution_count": 6,
   "id": "e00302db",
   "metadata": {
    "execution": {
     "iopub.execute_input": "2024-04-04T10:37:24.039735Z",
     "iopub.status.busy": "2024-04-04T10:37:24.039484Z",
     "iopub.status.idle": "2024-04-04T10:37:24.285217Z",
     "shell.execute_reply": "2024-04-04T10:37:24.284326Z"
    },
    "papermill": {
     "duration": 0.257546,
     "end_time": "2024-04-04T10:37:24.287174",
     "exception": false,
     "start_time": "2024-04-04T10:37:24.029628",
     "status": "completed"
    },
    "tags": []
   },
   "outputs": [
    {
     "data": {
      "image/png": "[encoded data removed]",
      "text/plain": [
       "<Figure size 640x480 with 1 Axes>"
      ]
     },
     "metadata": {},
     "output_type": "display_data"
    }
   ],
   "source": [
    "# Let's visualize the data\n",
    "\n",
    "# Count the number of spam and non-spam emails\n",
    "spam_count = df['spam'].value_counts()[1]\n",
    "non_spam_count = df['spam'].value_counts()[0]\n",
    "\n",
    "# Create a bar chart\n",
    "plt.bar(['Spam', 'Not Spam'], [spam_count, non_spam_count])\n",
    "plt.title('Spam vs Not Spam')\n",
    "plt.xlabel('Email Type')\n",
    "plt.ylabel('Count')\n",
    "plt.show()"
   ]
  },
  {
   "cell_type": "markdown",
   "id": "feecb795",
   "metadata": {
    "papermill": {
     "duration": 0.009314,
     "end_time": "2024-04-04T10:37:24.306131",
     "exception": false,
     "start_time": "2024-04-04T10:37:24.296817",
     "status": "completed"
    },
    "tags": []
   },
   "source": [
    "The data is imbalanced, with significantly more non-spam emails than spam emails. This could potentially affect the performance of a machine learning model trained on this data, as it may be biased towards predicting non-spam emails."
   ]
  },
  {
   "cell_type": "markdown",
   "id": "e144175a",
   "metadata": {
    "papermill": {
     "duration": 0.009668,
     "end_time": "2024-04-04T10:37:24.325341",
     "exception": false,
     "start_time": "2024-04-04T10:37:24.315673",
     "status": "completed"
    },
    "tags": []
   },
   "source": [
    "### Text Processing"
   ]
  },
  {
   "cell_type": "code",
   "execution_count": 7,
   "id": "dda5a5c7",
   "metadata": {
    "execution": {
     "iopub.execute_input": "2024-04-04T10:37:24.345836Z",
     "iopub.status.busy": "2024-04-04T10:37:24.345559Z",
     "iopub.status.idle": "2024-04-04T10:37:27.786352Z",
     "shell.execute_reply": "2024-04-04T10:37:27.785433Z"
    },
    "papermill": {
     "duration": 3.453668,
     "end_time": "2024-04-04T10:37:27.788541",
     "exception": false,
     "start_time": "2024-04-04T10:37:24.334873",
     "status": "completed"
    },
    "tags": []
   },
   "outputs": [
    {
     "name": "stdout",
     "output_type": "stream",
     "text": [
      "[nltk_data] Downloading package stopwords to /usr/share/nltk_data...\n",
      "[nltk_data]   Package stopwords is already up-to-date!\n",
      "[nltk_data] Downloading package punkt to /usr/share/nltk_data...\n",
      "[nltk_data]   Package punkt is already up-to-date!\n"
     ]
    },
    {
     "data": {
      "text/plain": [
       "True"
      ]
     },
     "execution_count": 7,
     "metadata": {},
     "output_type": "execute_result"
    }
   ],
   "source": [
    "# Import Libraries\n",
    "import re\n",
    "import nltk\n",
    "from nltk.tokenize import word_tokenize\n",
    "from nltk.corpus import stopwords\n",
    "from nltk.stem import PorterStemmer\n",
    "import string\n",
    "\n",
    "# Download packages\n",
    "nltk.download('stopwords')\n",
    "nltk.download('punkt')"
   ]
  },
  {
   "cell_type": "code",
   "execution_count": 8,
   "id": "2d6693bb",
   "metadata": {
    "execution": {
     "iopub.execute_input": "2024-04-04T10:37:27.809530Z",
     "iopub.status.busy": "2024-04-04T10:37:27.809082Z",
     "iopub.status.idle": "2024-04-04T10:37:27.816682Z",
     "shell.execute_reply": "2024-04-04T10:37:27.815814Z"
    },
    "papermill": {
     "duration": 0.020986,
     "end_time": "2024-04-04T10:37:27.819342",
     "exception": false,
     "start_time": "2024-04-04T10:37:27.798356",
     "status": "completed"
    },
    "tags": []
   },
   "outputs": [
    {
     "name": "stdout",
     "output_type": "stream",
     "text": [
      "Subject: see page 1  best regards ,  jhherbert  - gd . pdf \n",
      "\n",
      "Subject: re : conversation w / andersen  vince : forwarding this to you as an fyi - do you suppose you should sit in  since you ' ve already met victor ? just a thought . . .  regards ,  amy  - - - - - - - - - - - - - - - - - - - - - - forwarded by amy oberg / hou / ees on 08 / 09 / 2000 10 : 31 am  - - - - - - - - - - - - - - - - - - - - - - - - - - -  richard causey @ enron  08 / 09 / 2000 10 : 30 am  to : amy oberg / hou / ees @ ees  cc :  subject : re : conversation w / andersen  i am in the process of setting up a conference call with my contact here as  well as victor burke . prelimainary indications are they have not finalized  their objectives yet but i will discuss that further with them . i would  still strongly suggest rescheduling until everyone can attend and we can  fully discuss our involvement .  to : richard causey / corp / enron @ enron  cc :  subject : conversation w / andersen  rick :  quick follow up - any response yet from your contacts at andersen ? we are  holding off cancelling the thurs meeting w / hope they will get back to you by  eob wednesday .  pls let me know what the status is .  thanks and regards ,  amy oberg  richard causey @ enron  08 / 07 / 2000 09 : 07 am  to : amy oberg / hou / ees @ ees  cc :  subject : re : mit / aa new value research lab  i have discussed with aa and they are following up . if i am the agenda , i  would cancel the meeting and when i hear from aa , i will e mail everyone . i  would suggest we not hold a meeting until kean , buy , koenig and i can all  come so that we can truly move forward ( or decide not to ) . let me know what  you decide . thanks . rick  to : richard causey / corp / enron @ enron  cc :  subject : mit / aa new value research lab  rick : just wanted to highlight that you are the agenda for this meeting ( see  initial notice , agenda ) . let me know if there ' s anything i can do for you .  amy  - - - - - - - - - - - - - - - - - - - - - - forwarded by amy oberg / hou / ees on 08 / 07 / 2000 08 : 19 am  - - - - - - - - - - - - - - - - - - - - - - - - - - -  enron energy services  from : carol moffett 08 / 03 / 2000 04 : 21 pm  phone no : 713 - 853 - 6658 phone  888 - 782 - 3518 pager  eb 613 b  to : richard causey / corp / enron @ enron , marie hejka / corp / enron @ enron , steven j  kean / hou / ees @ ees , amy oberg / hou / ees @ ees , mark palmer / corp / enron @ enron , mark  ruane / hou / ect @ ect , vince j kaminski / hou / ect @ ect , rick buy / hou / ect @ ect , mark  koenig / corp / enron @ enron  cc : sharron westbrook / corp / enron @ enron , christie connell / corp / enron @ enron ,  maureen mcvicker / hou / ees @ ees , laura gutierrez / hou / ect @ ect , shirley  crenshaw / hou / ect @ ect , karen k heathman / hou / ect @ ect , joannie  williamson / corp / enron @ enron  subject : meeting confirmed : mit / aa new value research lab  this will confirm the meeting requested below . please note , all invitees are  not available , but the confirmed meeting time is the best time for most of  the invitees .  date : thursday - august 10  time : 11 : 00 a to noon  place : conference room 4741  confirmed attendees : rick causey  marie hejka  steve kean  amy oberg  mark palmer  mark ruane  thanks for your help , everyone .  - - - - - - - - - - - - - - - - - - - - - - forwarded by carol moffett / hou / ees on 08 / 03 / 2000 04 : 03  pm - - - - - - - - - - - - - - - - - - - - - - - - - - -  enron energy services  from : carol moffett 08 / 02 / 2000 03 : 44 pm  phone no : 713 - 853 - 6658 phone  888 - 782 - 3518 pager  eb 613 b  to : ginger dernehl / hou / ees @ ees , shirley crenshaw / hou / ect @ ect , karen k  heathman / hou / ect @ ect , sharron westbrook / corp / enron @ enron , laura  gutierrez / hou / ect @ ect , laura valencia / corp / enron @ enron , patty  pennington / enron communications @ enron communications  cc : steven j kean / hou / ees @ ees , vince j kaminski / hou / ect @ ect , rick  buy / hou / ect @ ect , richard causey / corp / enron @ enron , mark ruane / hou / ect @ ect ,  mark koenig / corp / enron @ enron , mark palmer / corp / enron @ enron , amy  oberg / hou / ees @ ees , marie hejka / corp / enron @ enron  subject : meeting request : mit / aa new value research lab  good afternoon . i am assisting amy oberg with setting up a meeting among the  individuals listed below . would you be so kind as to review their calendars  and let me know if they are available during any of the suggested meeting  times .  meeting topic : mit / aa new value research lab  meeting purpose : follow up to discussion from 8 / 1 / 00 ; rick causey to brief  group on  conversations w / aa regarding \" where they intend to go with this effort \" .  attendees : steve kean  vince kaminski  rick buy  rick causey  mark ruane  mark koenig  mark palmer  amy oberg  marie hejka  suggested meeting dates and times :  thursday - august 10 anytime between 8 : 00 a and 10 : 00 a  thursday - august 10 11 : 00 to noon  friday - august 11 anytime between 8 : 00 a and 9 : 30 a  friday - august 11 1 : 00 p to 2 : 00 p  thank you . \n",
      "\n",
      "Subject: more cash for the business you already write - immediately  get your bonus ! call mo marketing today !  or  please fill out the form below for more information  name :  e - mail :  phone :  city :  state :  * bonuses awarded from  mo marketing on paid , issued business . for agent use only .  offer subject to change without notice . offer starts 7 / 15 / 02 . offer  ends 12 / 31 / 02 . offer good in all states except : wi , in , de . not  available with all carriers .  we don ' t want anyone to receive our mailings who does not  wish to receive them . this is a professional communication  sent to insurance professionals . to be removed from this mailing  list , do not reply to this message . instead , go here :  http : / / www . insuranceiq . com / optout  legal notice  \n",
      "\n"
     ]
    }
   ],
   "source": [
    "random_sample = df['text'].sample(3)\n",
    "for text in random_sample:\n",
    "  print(text,'\\n')"
   ]
  },
  {
   "cell_type": "code",
   "execution_count": 9,
   "id": "d5a5baa1",
   "metadata": {
    "execution": {
     "iopub.execute_input": "2024-04-04T10:37:27.840019Z",
     "iopub.status.busy": "2024-04-04T10:37:27.839710Z",
     "iopub.status.idle": "2024-04-04T10:37:27.845847Z",
     "shell.execute_reply": "2024-04-04T10:37:27.845131Z"
    },
    "papermill": {
     "duration": 0.018477,
     "end_time": "2024-04-04T10:37:27.847615",
     "exception": false,
     "start_time": "2024-04-04T10:37:27.829138",
     "status": "completed"
    },
    "tags": []
   },
   "outputs": [],
   "source": [
    "# Preprocessing function\n",
    "def preprocessing_text(text):\n",
    "  # Lowercase the text\n",
    "  text = text.lower()\n",
    "\n",
    "  # Tokenize the text\n",
    "  tokens = word_tokenize(text)\n",
    "\n",
    "  # Remove punctuation and non-alphanumeric characters\n",
    "  tokens = [word for word in tokens if word.isalnum()]\n",
    "\n",
    "  # Remove stopwords\n",
    "  stop_words = set(stopwords.words('english'))\n",
    "  tokens = [word for word in tokens if word not in stop_words]\n",
    "\n",
    "  # Initialize steming\n",
    "  stemmer = PorterStemmer()\n",
    "  tokens = [stemmer.stem(word) for word in tokens]\n",
    "\n",
    "  # Join tokens back into a processed text\n",
    "  processed_text = ' '.join(tokens)\n",
    "\n",
    "  return processed_text"
   ]
  },
  {
   "cell_type": "code",
   "execution_count": 10,
   "id": "a26a843f",
   "metadata": {
    "execution": {
     "iopub.execute_input": "2024-04-04T10:37:27.868252Z",
     "iopub.status.busy": "2024-04-04T10:37:27.867987Z",
     "iopub.status.idle": "2024-04-04T10:38:16.809040Z",
     "shell.execute_reply": "2024-04-04T10:38:16.808080Z"
    },
    "papermill": {
     "duration": 48.962935,
     "end_time": "2024-04-04T10:38:16.820495",
     "exception": false,
     "start_time": "2024-04-04T10:37:27.857560",
     "status": "completed"
    },
    "tags": []
   },
   "outputs": [
    {
     "data": {
      "text/plain": [
       "4701    subject california power 1 19 00 execut summar...\n",
       "2114    subject garp 2001 convent frank assum want tak...\n",
       "2087    subject risk 2000 panel discuss steve meet 8 0...\n",
       "4052    subject texa financ festiv urgent request pegg...\n",
       "1492    subject dinner thur even vinc greet advis ami ...\n",
       "Name: processed_text, dtype: object"
      ]
     },
     "execution_count": 10,
     "metadata": {},
     "output_type": "execute_result"
    }
   ],
   "source": [
    "# Assign a new column with processed text\n",
    "df['processed_text'] = df['text'].apply(preprocessing_text)\n",
    "df['processed_text'].sample(5)"
   ]
  },
  {
   "cell_type": "markdown",
   "id": "ddbbbe6f",
   "metadata": {
    "papermill": {
     "duration": 0.009773,
     "end_time": "2024-04-04T10:38:16.840140",
     "exception": false,
     "start_time": "2024-04-04T10:38:16.830367",
     "status": "completed"
    },
    "tags": []
   },
   "source": [
    "### Split data `(train & test)` and Vectorize the text data"
   ]
  },
  {
   "cell_type": "code",
   "execution_count": 11,
   "id": "a195294a",
   "metadata": {
    "execution": {
     "iopub.execute_input": "2024-04-04T10:38:16.861146Z",
     "iopub.status.busy": "2024-04-04T10:38:16.860850Z",
     "iopub.status.idle": "2024-04-04T10:38:16.865164Z",
     "shell.execute_reply": "2024-04-04T10:38:16.864272Z"
    },
    "papermill": {
     "duration": 0.016975,
     "end_time": "2024-04-04T10:38:16.867060",
     "exception": false,
     "start_time": "2024-04-04T10:38:16.850085",
     "status": "completed"
    },
    "tags": []
   },
   "outputs": [],
   "source": [
    "from sklearn.model_selection import train_test_split\n",
    "from sklearn.feature_extraction.text import CountVectorizer"
   ]
  },
  {
   "cell_type": "code",
   "execution_count": 12,
   "id": "db387933",
   "metadata": {
    "execution": {
     "iopub.execute_input": "2024-04-04T10:38:16.889209Z",
     "iopub.status.busy": "2024-04-04T10:38:16.888523Z",
     "iopub.status.idle": "2024-04-04T10:38:16.896206Z",
     "shell.execute_reply": "2024-04-04T10:38:16.895281Z"
    },
    "papermill": {
     "duration": 0.020537,
     "end_time": "2024-04-04T10:38:16.898118",
     "exception": false,
     "start_time": "2024-04-04T10:38:16.877581",
     "status": "completed"
    },
    "tags": []
   },
   "outputs": [],
   "source": [
    "X_text = df['processed_text']\n",
    "y_labels = df['spam']\n",
    "X_train, X_test, y_train, y_test = train_test_split(X_text,\n",
    "                                                    y_labels,\n",
    "                                                    test_size=0.3,\n",
    "                                                   random_state=42)"
   ]
  },
  {
   "cell_type": "code",
   "execution_count": 13,
   "id": "007f1b7d",
   "metadata": {
    "execution": {
     "iopub.execute_input": "2024-04-04T10:38:16.919056Z",
     "iopub.status.busy": "2024-04-04T10:38:16.918797Z",
     "iopub.status.idle": "2024-04-04T10:38:17.182869Z",
     "shell.execute_reply": "2024-04-04T10:38:17.182015Z"
    },
    "papermill": {
     "duration": 0.276838,
     "end_time": "2024-04-04T10:38:17.184787",
     "exception": false,
     "start_time": "2024-04-04T10:38:16.907949",
     "status": "completed"
    },
    "tags": []
   },
   "outputs": [
    {
     "data": {
      "image/png": "[encoded data removed]",
      "text/plain": [
       "<Figure size 640x480 with 1 Axes>"
      ]
     },
     "metadata": {},
     "output_type": "display_data"
    }
   ],
   "source": [
    "# Let's visualize the number of spam and non-spam emails in the train and test sets.\n",
    "spam_counts = [y_train.value_counts()[1], y_test.value_counts()[1]]\n",
    "non_spam_counts = [y_train.value_counts()[0], y_test.value_counts()[0]]\n",
    "\n",
    "x_labels = ['Train', 'Test']\n",
    "\n",
    "plt.bar(x_labels, spam_counts, label='Spam')\n",
    "plt.bar(x_labels, non_spam_counts, bottom=spam_counts, label='Not Spam')\n",
    "plt.title('Spam vs Not Spam in Train and Test Sets')\n",
    "plt.xlabel('Dataset')\n",
    "plt.ylabel('Count')\n",
    "plt.legend()\n",
    "plt.show()"
   ]
  },
  {
   "cell_type": "code",
   "execution_count": 14,
   "id": "fe126c25",
   "metadata": {
    "execution": {
     "iopub.execute_input": "2024-04-04T10:38:17.207063Z",
     "iopub.status.busy": "2024-04-04T10:38:17.206791Z",
     "iopub.status.idle": "2024-04-04T10:38:18.569417Z",
     "shell.execute_reply": "2024-04-04T10:38:18.568478Z"
    },
    "papermill": {
     "duration": 1.375979,
     "end_time": "2024-04-04T10:38:18.571570",
     "exception": false,
     "start_time": "2024-04-04T10:38:17.195591",
     "status": "completed"
    },
    "tags": []
   },
   "outputs": [
    {
     "name": "stdout",
     "output_type": "stream",
     "text": [
      "X_train_vec: (3986, 24812)\n",
      "X_test_vec: (1709, 24812)\n"
     ]
    }
   ],
   "source": [
    "# Vectorize the text data\n",
    "vectorizer = CountVectorizer()\n",
    "X_train_vec = vectorizer.fit_transform(X_train)\n",
    "X_test_vec = vectorizer.transform(X_test)\n",
    "\n",
    "print(f\"X_train_vec: {X_train_vec.toarray().shape}\")\n",
    "print(f\"X_test_vec: {X_test_vec.toarray().shape}\")"
   ]
  },
  {
   "cell_type": "markdown",
   "id": "77da830b",
   "metadata": {
    "papermill": {
     "duration": 0.010607,
     "end_time": "2024-04-04T10:38:18.592939",
     "exception": false,
     "start_time": "2024-04-04T10:38:18.582332",
     "status": "completed"
    },
    "tags": []
   },
   "source": [
    "### Convert vectorized data and labels into PyTorch tensor"
   ]
  },
  {
   "cell_type": "code",
   "execution_count": 15,
   "id": "6b19f9ab",
   "metadata": {
    "execution": {
     "iopub.execute_input": "2024-04-04T10:38:18.614768Z",
     "iopub.status.busy": "2024-04-04T10:38:18.614475Z",
     "iopub.status.idle": "2024-04-04T10:38:24.984812Z",
     "shell.execute_reply": "2024-04-04T10:38:24.983729Z"
    },
    "papermill": {
     "duration": 6.383475,
     "end_time": "2024-04-04T10:38:24.986781",
     "exception": false,
     "start_time": "2024-04-04T10:38:18.603306",
     "status": "completed"
    },
    "tags": []
   },
   "outputs": [
    {
     "data": {
      "text/plain": [
       "device(type='cuda')"
      ]
     },
     "execution_count": 15,
     "metadata": {},
     "output_type": "execute_result"
    }
   ],
   "source": [
    "import torch\n",
    "# Device agnostic code\n",
    "device = torch.device('cuda' if torch.cuda.is_available() else 'cpu')\n",
    "device"
   ]
  },
  {
   "cell_type": "code",
   "execution_count": 16,
   "id": "a4d311b9",
   "metadata": {
    "execution": {
     "iopub.execute_input": "2024-04-04T10:38:25.009986Z",
     "iopub.status.busy": "2024-04-04T10:38:25.009283Z",
     "iopub.status.idle": "2024-04-04T10:38:26.195754Z",
     "shell.execute_reply": "2024-04-04T10:38:26.194953Z"
    },
    "papermill": {
     "duration": 1.200373,
     "end_time": "2024-04-04T10:38:26.198021",
     "exception": false,
     "start_time": "2024-04-04T10:38:24.997648",
     "status": "completed"
    },
    "tags": []
   },
   "outputs": [],
   "source": [
    "# Convert data & labels into PyTorch tensor\n",
    "X_train_tensor = torch.tensor(X_train_vec.toarray(),\n",
    "                             dtype=torch.float32,\n",
    "                             device=device)\n",
    "y_train_tensor = torch.tensor(y_train.values,\n",
    "                             dtype=torch.float32,\n",
    "                             device=device)\n",
    "X_test_tensor = torch.tensor(X_test_vec.toarray(),\n",
    "                             dtype=torch.float32,\n",
    "                             device=device)\n",
    "y_test_tensor = torch.tensor(y_test.values,\n",
    "                             dtype=torch.float32,\n",
    "                             device=device)"
   ]
  },
  {
   "cell_type": "markdown",
   "id": "8e52b8cb",
   "metadata": {
    "papermill": {
     "duration": 0.01061,
     "end_time": "2024-04-04T10:38:26.219590",
     "exception": false,
     "start_time": "2024-04-04T10:38:26.208980",
     "status": "completed"
    },
    "tags": []
   },
   "source": [
    "### Create TensorDatasets and DataLoaders"
   ]
  },
  {
   "cell_type": "code",
   "execution_count": 17,
   "id": "c8933d02",
   "metadata": {
    "execution": {
     "iopub.execute_input": "2024-04-04T10:38:26.241802Z",
     "iopub.status.busy": "2024-04-04T10:38:26.241508Z",
     "iopub.status.idle": "2024-04-04T10:38:26.249523Z",
     "shell.execute_reply": "2024-04-04T10:38:26.248617Z"
    },
    "papermill": {
     "duration": 0.021113,
     "end_time": "2024-04-04T10:38:26.251332",
     "exception": false,
     "start_time": "2024-04-04T10:38:26.230219",
     "status": "completed"
    },
    "tags": []
   },
   "outputs": [],
   "source": [
    "from torch.utils.data import DataLoader, TensorDataset\n",
    "\n",
    "train_dataset = TensorDataset(X_train_tensor, y_train_tensor)\n",
    "test_dataset = TensorDataset(X_test_tensor, y_test_tensor)\n",
    "\n",
    "batch_size = 64\n",
    "\n",
    "train_loader = DataLoader(train_dataset,\n",
    "                          batch_size=batch_size,\n",
    "                         shuffle=True)\n",
    "test_loader = DataLoader(test_dataset,\n",
    "                        batch_size=batch_size,\n",
    "                        shuffle=True)"
   ]
  },
  {
   "cell_type": "markdown",
   "id": "55cc53fd",
   "metadata": {
    "papermill": {
     "duration": 0.010279,
     "end_time": "2024-04-04T10:38:26.272038",
     "exception": false,
     "start_time": "2024-04-04T10:38:26.261759",
     "status": "completed"
    },
    "tags": []
   },
   "source": [
    "### Let's build a simple feedforward neural network model"
   ]
  },
  {
   "cell_type": "code",
   "execution_count": 18,
   "id": "834a9fcf",
   "metadata": {
    "execution": {
     "iopub.execute_input": "2024-04-04T10:38:26.295548Z",
     "iopub.status.busy": "2024-04-04T10:38:26.295259Z",
     "iopub.status.idle": "2024-04-04T10:38:26.301682Z",
     "shell.execute_reply": "2024-04-04T10:38:26.300886Z"
    },
    "papermill": {
     "duration": 0.019905,
     "end_time": "2024-04-04T10:38:26.303497",
     "exception": false,
     "start_time": "2024-04-04T10:38:26.283592",
     "status": "completed"
    },
    "tags": []
   },
   "outputs": [],
   "source": [
    "from torch import nn\n",
    "\n",
    "# Define model\n",
    "class SpamFilter(nn.Module):\n",
    "    def __init__(self, input_size):\n",
    "        super(SpamFilter, self).__init__()\n",
    "        self.layer1 = nn.Linear(in_features=input_size,\n",
    "                               out_features=128)\n",
    "        \n",
    "        self.layer2 = nn.Linear(in_features=128,\n",
    "                               out_features=64 )\n",
    "        \n",
    "        self.layer3 = nn.Linear(in_features=64,\n",
    "                               out_features=1 )\n",
    "        \n",
    "    def forward(self, x):\n",
    "        out = torch.relu(self.layer1(x))\n",
    "        out = torch.relu(self.layer2(out))\n",
    "        out = torch.sigmoid(self.layer3(out))\n",
    "        return out"
   ]
  },
  {
   "cell_type": "markdown",
   "id": "646fbed8",
   "metadata": {
    "papermill": {
     "duration": 0.010142,
     "end_time": "2024-04-04T10:38:26.324065",
     "exception": false,
     "start_time": "2024-04-04T10:38:26.313923",
     "status": "completed"
    },
    "tags": []
   },
   "source": [
    "### Initialize model & define loss function and optimizer"
   ]
  },
  {
   "cell_type": "code",
   "execution_count": 19,
   "id": "3a5016eb",
   "metadata": {
    "execution": {
     "iopub.execute_input": "2024-04-04T10:38:26.346576Z",
     "iopub.status.busy": "2024-04-04T10:38:26.346270Z",
     "iopub.status.idle": "2024-04-04T10:38:26.410550Z",
     "shell.execute_reply": "2024-04-04T10:38:26.409826Z"
    },
    "papermill": {
     "duration": 0.077938,
     "end_time": "2024-04-04T10:38:26.412396",
     "exception": false,
     "start_time": "2024-04-04T10:38:26.334458",
     "status": "completed"
    },
    "tags": []
   },
   "outputs": [],
   "source": [
    "# Initialize the model\n",
    "input_size = X_train_vec.shape[1]\n",
    "model0 = SpamFilter(input_size).to(device)"
   ]
  },
  {
   "cell_type": "code",
   "execution_count": 20,
   "id": "e62977e2",
   "metadata": {
    "execution": {
     "iopub.execute_input": "2024-04-04T10:38:26.434542Z",
     "iopub.status.busy": "2024-04-04T10:38:26.434272Z",
     "iopub.status.idle": "2024-04-04T10:38:30.508661Z",
     "shell.execute_reply": "2024-04-04T10:38:30.507669Z"
    },
    "papermill": {
     "duration": 4.088072,
     "end_time": "2024-04-04T10:38:30.511145",
     "exception": false,
     "start_time": "2024-04-04T10:38:26.423073",
     "status": "completed"
    },
    "tags": []
   },
   "outputs": [],
   "source": [
    "# loss function\n",
    "criterion = nn.BCELoss()\n",
    "\n",
    "# optimizer\n",
    "optimizer = torch.optim.Adam(params=model0.parameters(),\n",
    "                            lr=0.001)"
   ]
  },
  {
   "cell_type": "markdown",
   "id": "23bb724b",
   "metadata": {
    "papermill": {
     "duration": 0.010211,
     "end_time": "2024-04-04T10:38:30.532289",
     "exception": false,
     "start_time": "2024-04-04T10:38:30.522078",
     "status": "completed"
    },
    "tags": []
   },
   "source": [
    "### Let's build a training loop & evaluate our model"
   ]
  },
  {
   "cell_type": "code",
   "execution_count": 21,
   "id": "eca7f4a8",
   "metadata": {
    "execution": {
     "iopub.execute_input": "2024-04-04T10:38:30.554431Z",
     "iopub.status.busy": "2024-04-04T10:38:30.554027Z",
     "iopub.status.idle": "2024-04-04T10:38:33.273566Z",
     "shell.execute_reply": "2024-04-04T10:38:33.272363Z"
    },
    "papermill": {
     "duration": 2.732875,
     "end_time": "2024-04-04T10:38:33.275652",
     "exception": false,
     "start_time": "2024-04-04T10:38:30.542777",
     "status": "completed"
    },
    "tags": []
   },
   "outputs": [
    {
     "name": "stdout",
     "output_type": "stream",
     "text": [
      "Epoch 1/10, Loss: 14.205428590998054\n",
      "Epoch 2/10, Loss: 1.0402323715388775\n",
      "Epoch 3/10, Loss: 0.44840929237398086\n",
      "Epoch 4/10, Loss: 0.11797932724584825\n",
      "Epoch 5/10, Loss: 0.06225612500566058\n",
      "Epoch 6/10, Loss: 0.039655849021073664\n",
      "Epoch 7/10, Loss: 0.025968818405090133\n",
      "Epoch 8/10, Loss: 0.018862724935388542\n",
      "Epoch 9/10, Loss: 0.014185117831630123\n",
      "Epoch 10/10, Loss: 0.01119757549872702\n"
     ]
    }
   ],
   "source": [
    "# Training loop\n",
    "num_epochs = 10\n",
    "for epoch in range(num_epochs):\n",
    "    model0.train()  # Set the model to training mode\n",
    "    running_loss = 0.0\n",
    "    \n",
    "    for inputs, labels in train_loader:\n",
    "        optimizer.zero_grad()\n",
    "\n",
    "        outputs = model0(inputs)\n",
    "        \n",
    "        loss = criterion(outputs, labels.unsqueeze(1))        \n",
    "        loss.backward()\n",
    "        \n",
    "        optimizer.step()\n",
    "        \n",
    "        running_loss += loss.item()\n",
    "        \n",
    "     \n",
    "    print(f'Epoch {epoch+1}/{num_epochs}, Loss: {running_loss}')"
   ]
  },
  {
   "cell_type": "code",
   "execution_count": 22,
   "id": "84fe8764",
   "metadata": {
    "execution": {
     "iopub.execute_input": "2024-04-04T10:38:33.299049Z",
     "iopub.status.busy": "2024-04-04T10:38:33.298787Z",
     "iopub.status.idle": "2024-04-04T10:38:33.390079Z",
     "shell.execute_reply": "2024-04-04T10:38:33.389058Z"
    },
    "papermill": {
     "duration": 0.105179,
     "end_time": "2024-04-04T10:38:33.392121",
     "exception": false,
     "start_time": "2024-04-04T10:38:33.286942",
     "status": "completed"
    },
    "tags": []
   },
   "outputs": [
    {
     "name": "stdout",
     "output_type": "stream",
     "text": [
      "Test Accuarcy: 99.24%\n"
     ]
    }
   ],
   "source": [
    "# Evaluation\n",
    "model0.eval()\n",
    "\n",
    "correct = 0\n",
    "total = 0\n",
    "\n",
    "with torch.inference_mode():\n",
    "    for inputs, labels in test_loader:\n",
    "        outputs = model0(inputs)\n",
    "        predicted = (outputs > 0.5).float()\n",
    "        \n",
    "        total += labels.size(0)\n",
    "        correct += (predicted == labels.unsqueeze(dim=1)).sum().item()\n",
    "\n",
    "accuracy = correct / total\n",
    "print('Test Accuarcy: {:.2f}%'.format(100 * accuracy))\n"
   ]
  },
  {
   "cell_type": "markdown",
   "id": "22657e14",
   "metadata": {
    "papermill": {
     "duration": 0.010838,
     "end_time": "2024-04-04T10:38:33.414618",
     "exception": false,
     "start_time": "2024-04-04T10:38:33.403780",
     "status": "completed"
    },
    "tags": []
   },
   "source": [
    "### Use trained model to classify new emails"
   ]
  },
  {
   "cell_type": "code",
   "execution_count": 23,
   "id": "34716875",
   "metadata": {
    "execution": {
     "iopub.execute_input": "2024-04-04T10:38:33.437698Z",
     "iopub.status.busy": "2024-04-04T10:38:33.437385Z",
     "iopub.status.idle": "2024-04-04T10:38:33.444312Z",
     "shell.execute_reply": "2024-04-04T10:38:33.443453Z"
    },
    "papermill": {
     "duration": 0.020557,
     "end_time": "2024-04-04T10:38:33.446152",
     "exception": false,
     "start_time": "2024-04-04T10:38:33.425595",
     "status": "completed"
    },
    "tags": []
   },
   "outputs": [],
   "source": [
    "spam_email = \"\"\"Subject: Urgent: Claim Your Prize Now!\n",
    "\n",
    "Congratulations! You have been selected as the lucky winner of our grand prize giveaway! Claim your prize now by clicking on the link below. Don't miss out on this amazing opportunity!\n",
    "\n",
    "Click here to claim your prize: superlottery@gmail.com\n",
    "\n",
    "Hurry, this offer is only available for a limited time!\n",
    "\n",
    "Best Regards,\n",
    "Spammy Marketing Team\n",
    "\"\"\"\n",
    "\n",
    "non_spam_email = \"\"\"Subject: Meeting Agenda for Tomorrow\n",
    "\n",
    "Hi Team,\n",
    "\n",
    "I hope this email finds you well. I wanted to remind everyone about the meeting scheduled for tomorrow at 10:00 AM. Below is the agenda:\n",
    "\n",
    "1. Review of project milestones\n",
    "2. Discussion on upcoming deadlines\n",
    "3. Any other business\n",
    "\n",
    "Please come prepared with any updates or questions you may have. Looking forward to a productive meeting.\n",
    "\n",
    "Best regards,\n",
    "Mr. Bannerjee\n",
    "\"\"\"\n",
    "def classify_email(email_text):\n",
    "    # Preprocess the email\n",
    "    preprocessed_email = preprocessing_text(email_text)\n",
    "    \n",
    "    # Vectorize the preperocessed email\n",
    "    vectorized_email = vectorizer.transform([preprocessed_email])\n",
    "    \n",
    "    # Convert the vectorized email into PyTorch tensor\n",
    "    email_tensor = torch.tensor(vectorized_email.toarray(),\n",
    "                               dtype=torch.float32,\n",
    "                               device=device)\n",
    "    \n",
    "    # Use the model for inference\n",
    "    output = model0(email_tensor)\n",
    "    \n",
    "    # If the email is spam ot not\n",
    "    if output > 0.5:\n",
    "        return \"spam\"\n",
    "    else:\n",
    "        return \"not spam\"\n"
   ]
  },
  {
   "cell_type": "code",
   "execution_count": 24,
   "id": "5dd3d762",
   "metadata": {
    "execution": {
     "iopub.execute_input": "2024-04-04T10:38:33.469089Z",
     "iopub.status.busy": "2024-04-04T10:38:33.468821Z",
     "iopub.status.idle": "2024-04-04T10:38:33.526242Z",
     "shell.execute_reply": "2024-04-04T10:38:33.525309Z"
    },
    "papermill": {
     "duration": 0.07099,
     "end_time": "2024-04-04T10:38:33.528098",
     "exception": false,
     "start_time": "2024-04-04T10:38:33.457108",
     "status": "completed"
    },
    "tags": []
   },
   "outputs": [
    {
     "name": "stdout",
     "output_type": "stream",
     "text": [
      "Email 1 is classified as spam\n",
      "Email 2 is classified as not spam\n"
     ]
    }
   ],
   "source": [
    "# List of emails\n",
    "email_examples = [spam_email, non_spam_email]\n",
    "\n",
    "for i, email_text in enumerate(email_examples, start=1):\n",
    "    classification = classify_email(email_text)\n",
    "    print(f\"Email {i} is classified as {classification}\")"
   ]
  },
  {
   "cell_type": "markdown",
   "id": "263a96c7",
   "metadata": {
    "papermill": {
     "duration": 0.010746,
     "end_time": "2024-04-04T10:38:33.550083",
     "exception": false,
     "start_time": "2024-04-04T10:38:33.539337",
     "status": "completed"
    },
    "tags": []
   },
   "source": [
    "### Save our classification model"
   ]
  },
  {
   "cell_type": "code",
   "execution_count": 25,
   "id": "067476ab",
   "metadata": {
    "execution": {
     "iopub.execute_input": "2024-04-04T10:38:33.573535Z",
     "iopub.status.busy": "2024-04-04T10:38:33.573240Z",
     "iopub.status.idle": "2024-04-04T10:38:33.610996Z",
     "shell.execute_reply": "2024-04-04T10:38:33.610103Z"
    },
    "papermill": {
     "duration": 0.051881,
     "end_time": "2024-04-04T10:38:33.612905",
     "exception": false,
     "start_time": "2024-04-04T10:38:33.561024",
     "status": "completed"
    },
    "tags": []
   },
   "outputs": [
    {
     "name": "stdout",
     "output_type": "stream",
     "text": [
      "Saving model to models/Spam_Classification.pth\n"
     ]
    }
   ],
   "source": [
    "# Saving PyTorch Model\n",
    "from pathlib import Path\n",
    "\n",
    "# Create model's directory\n",
    "MODEL_PATH = Path(\"models\")\n",
    "MODEL_PATH.mkdir(parents=True, exist_ok=True)\n",
    "\n",
    "# Create model save path\n",
    "MODEL_NAME = \"Spam_Classification.pth\"\n",
    "MODEL_SAVE_PATH = MODEL_PATH/MODEL_NAME\n",
    "\n",
    "# Save the model's state dict\n",
    "print(f\"Saving model to {MODEL_SAVE_PATH}\")\n",
    "torch.save(obj=model0.state_dict(), f=MODEL_SAVE_PATH)"
   ]
  }
 ],
 "metadata": {
  "kaggle": {
   "accelerator": "nvidiaTeslaT4",
   "dataSources": [
    {
     "datasetId": 3690036,
     "sourceId": 6399975,
     "sourceType": "datasetVersion"
    }
   ],
   "dockerImageVersionId": 30674,
   "isGpuEnabled": true,
   "isInternetEnabled": true,
   "language": "python",
   "sourceType": "notebook"
  },
  "kernelspec": {
   "display_name": "Python 3",
   "language": "python",
   "name": "python3"
  },
  "language_info": {
   "codemirror_mode": {
    "name": "ipython",
    "version": 3
   },
   "file_extension": ".py",
   "mimetype": "text/x-python",
   "name": "python",
   "nbconvert_exporter": "python",
   "pygments_lexer": "ipython3",
   "version": "3.10.13"
  },
  "papermill": {
   "default_parameters": {},
   "duration": 77.824067,
   "end_time": "2024-04-04T10:38:36.373688",
   "environment_variables": {},
   "exception": null,
   "input_path": "__notebook__.ipynb",
   "output_path": "__notebook__.ipynb",
   "parameters": {},
   "start_time": "2024-04-04T10:37:18.549621",
   "version": "2.5.0"
  }
 },
 "nbformat": 4,
 "nbformat_minor": 5
}
