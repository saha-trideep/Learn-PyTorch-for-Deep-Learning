{
  "nbformat": 4,
  "nbformat_minor": 0,
  "metadata": {
    "colab": {
      "provenance": [],
      "authorship_tag": "ABX9TyNFKEADvTHHla47J1XJxo9P",
      "include_colab_link": true
    },
    "kernelspec": {
      "name": "python3",
      "display_name": "Python 3"
    },
    "language_info": {
      "name": "python"
    }
  },
  "cells": [
    {
      "cell_type": "markdown",
      "metadata": {
        "id": "view-in-github",
        "colab_type": "text"
      },
      "source": [
        "<a href=\"https://colab.research.google.com/github/saha-trideep/Learn-PyTorch-for-Deep-Learning/blob/main/00_pytorch_fundamentals_exercises.ipynb\" target=\"_parent\"><img src=\"https://colab.research.google.com/assets/colab-badge.svg\" alt=\"Open In Colab\"/></a>"
      ]
    },
    {
      "cell_type": "markdown",
      "source": [
        "# 00. PyTorch Fundamentals Exercise (23.03.2024)"
      ],
      "metadata": {
        "id": "rfVjsrKgq7C0"
      }
    },
    {
      "cell_type": "markdown",
      "source": [
        "## 1. Create a random tensor with shape (7, 7)"
      ],
      "metadata": {
        "id": "MRb8kF7ArSBu"
      }
    },
    {
      "cell_type": "code",
      "source": [
        "import torch\n",
        "\n",
        "# Create random tensor with shape(7, 7)\n",
        "random_tensor = torch.rand(size=(7, 7))\n",
        "print(random_tensor)"
      ],
      "metadata": {
        "colab": {
          "base_uri": "https://localhost:8080/"
        },
        "id": "3V7ee1TnrZsV",
        "outputId": "87f531b2-7d5f-4bd0-b140-43b8df665f6e"
      },
      "execution_count": null,
      "outputs": [
        {
          "output_type": "stream",
          "name": "stdout",
          "text": [
            "tensor([[0.1118, 0.5051, 0.4821, 0.4345, 0.8492, 0.2739, 0.0173],\n",
            "        [0.8592, 0.0669, 0.6213, 0.0323, 0.7865, 0.7305, 0.7915],\n",
            "        [0.0380, 0.6564, 0.1616, 0.7606, 0.4087, 0.2958, 0.4943],\n",
            "        [0.4315, 0.6636, 0.5101, 0.6708, 0.2477, 0.5176, 0.6189],\n",
            "        [0.0569, 0.6230, 0.3507, 0.7598, 0.9311, 0.4673, 0.6115],\n",
            "        [0.3640, 0.4289, 0.3006, 0.6741, 0.6390, 0.5212, 0.5805],\n",
            "        [0.6534, 0.2362, 0.9946, 0.6813, 0.9073, 0.0550, 0.9084]])\n"
          ]
        }
      ]
    },
    {
      "cell_type": "markdown",
      "source": [
        "## 2. Performe a matrix multiplication on the tensor from 1 with another random tensor with shape (1, 7)"
      ],
      "metadata": {
        "id": "-Xs0b7fbrsX1"
      }
    },
    {
      "cell_type": "code",
      "source": [
        "# Create another random tensor with sahpe (1, 7)\n",
        "another_random_tensor = torch.rand(size=(1, 7))\n",
        "print(another_random_tensor, '\\n')\n",
        "\n",
        "# Performe matrix multiplication\n",
        "resultant_matrix_tensor = torch.matmul(random_tensor, another_random_tensor.T)\n",
        "\n",
        "\n",
        "print(resultant_matrix_tensor)\n"
      ],
      "metadata": {
        "colab": {
          "base_uri": "https://localhost:8080/"
        },
        "id": "V06Cw2a-sCU0",
        "outputId": "f4b865bb-da5c-4e34-f19c-ea4eb066025e"
      },
      "execution_count": null,
      "outputs": [
        {
          "output_type": "stream",
          "name": "stdout",
          "text": [
            "tensor([[0.7605, 0.4711, 0.1927, 0.0223, 0.4601, 0.3658, 0.7794]]) \n",
            "\n",
            "tensor([[1.7576],\n",
            "        [0.8281],\n",
            "        [1.2982],\n",
            "        [1.2614],\n",
            "        [2.1252],\n",
            "        [1.2735],\n",
            "        [1.6632]])\n"
          ]
        }
      ]
    },
    {
      "cell_type": "markdown",
      "source": [
        "## 3. Set the random seed to `0` and do 1 & 2 over again"
      ],
      "metadata": {
        "id": "XTae1qMuu0b_"
      }
    },
    {
      "cell_type": "code",
      "source": [
        "# Set random seed to zero\n",
        "RANDOM_SEED = 0\n",
        "torch.manual_seed(RANDOM_SEED)\n",
        "\n",
        "# Create two random tensor with shape (7, 7) & (1, 7)\n",
        "random_tensor_A = torch.rand(7, 7)\n",
        "random_tensor_B = torch.rand(1, 7)\n",
        "\n",
        "# Matrix multiply tensors\n",
        "matrix_tensor = torch.matmul(random_tensor_A, random_tensor_B.T)\n",
        "\n",
        "print(matrix_tensor)\n"
      ],
      "metadata": {
        "colab": {
          "base_uri": "https://localhost:8080/"
        },
        "id": "jqT5g17mw5Lj",
        "outputId": "0b529d0f-88c5-46eb-c8af-798c72c74553"
      },
      "execution_count": null,
      "outputs": [
        {
          "output_type": "stream",
          "name": "stdout",
          "text": [
            "tensor([[1.8542],\n",
            "        [1.9611],\n",
            "        [2.2884],\n",
            "        [3.0481],\n",
            "        [1.7067],\n",
            "        [2.5290],\n",
            "        [1.7989]])\n"
          ]
        }
      ]
    },
    {
      "cell_type": "markdown",
      "source": [
        "## 4. Speaking of random seeds, we saw how to set it with `torch.manual_seed()` but is there a GPU equivalent?"
      ],
      "metadata": {
        "id": "HaK62VmzybMM"
      }
    },
    {
      "cell_type": "code",
      "source": [
        "import torch\n",
        "\n",
        "# Set random seed for Pytorch on GPU\n",
        "seed = 1234\n",
        "torch.manual_seed(seed)\n",
        "\n",
        "print(\"Random seed is set for Pytorch on GPU.\")"
      ],
      "metadata": {
        "colab": {
          "base_uri": "https://localhost:8080/"
        },
        "id": "VUCjav2k3mbr",
        "outputId": "d344f8d4-6900-4088-e4dc-90c6b5d8a37f"
      },
      "execution_count": null,
      "outputs": [
        {
          "output_type": "stream",
          "name": "stdout",
          "text": [
            "Random seed is set for Pytorch on GPU.\n"
          ]
        }
      ]
    },
    {
      "cell_type": "markdown",
      "source": [
        "## 5. Create two random tensors of shape (2, 3) and send them both to the GPU (you'll need access to a GPU for this). Set torch.manual_seed(1234) when creating the tensors (this doesn't have to be the GPU random seed).\n",
        "\n"
      ],
      "metadata": {
        "id": "_TYaBsTG8ary"
      }
    },
    {
      "cell_type": "code",
      "source": [
        "import torch\n",
        "\n",
        "# Set random set\n",
        "seed = 1234\n",
        "torch.manual_seed(seed)\n",
        "\n",
        "# Check for access to GPU\n",
        "device = \"cuda\" if torch.cuda.is_available() else \"cpu\"\n",
        "print(f\"Device: {device}\")\n",
        "\n",
        "# Create two random tensor on GPU\n",
        "tensor_a = torch.rand(2, 3, device=device) # torch.rand(size=(2,3)).to(device)\n",
        "\n",
        "tensor_b = torch.rand(2, 3, device=device) # torch.rand(size=(2,3)).to(device)\n",
        "\n",
        "print(\"Device\", tensor_a.device)\n",
        "print(tensor_a, '\\n')\n",
        "print(tensor_b)\n"
      ],
      "metadata": {
        "colab": {
          "base_uri": "https://localhost:8080/"
        },
        "id": "GZ5F_TIw9a2S",
        "outputId": "a7cf7c86-ac47-40a1-b7e1-e265b7af9a54"
      },
      "execution_count": null,
      "outputs": [
        {
          "output_type": "stream",
          "name": "stdout",
          "text": [
            "Device: cuda\n",
            "Device cuda:0\n",
            "tensor([[0.1272, 0.8167, 0.5440],\n",
            "        [0.6601, 0.2721, 0.9737]], device='cuda:0') \n",
            "\n",
            "tensor([[0.6208, 0.0276, 0.3255],\n",
            "        [0.1114, 0.6812, 0.3608]], device='cuda:0')\n"
          ]
        }
      ]
    },
    {
      "cell_type": "markdown",
      "source": [
        "## 6. Perform a matrix multiplication on the tensors you created in 6"
      ],
      "metadata": {
        "id": "kPEXpDyqAj2O"
      }
    },
    {
      "cell_type": "code",
      "source": [
        "# Perform matmul on tensor_a & tensor_b\n",
        "resultant_matrix_tensor = torch.matmul(tensor_a, tensor_b.T)\n",
        "\n",
        "print(resultant_matrix_tensor)"
      ],
      "metadata": {
        "colab": {
          "base_uri": "https://localhost:8080/"
        },
        "id": "dpC-ICVABaUM",
        "outputId": "2d14eb96-6049-4899-ad23-c7c0a5b36947"
      },
      "execution_count": null,
      "outputs": [
        {
          "output_type": "stream",
          "name": "stdout",
          "text": [
            "tensor([[0.2786, 0.7668],\n",
            "        [0.7343, 0.6102]], device='cuda:0')\n"
          ]
        }
      ]
    },
    {
      "cell_type": "markdown",
      "source": [
        "## 7. Find the maximum and minimum values of the output of 6."
      ],
      "metadata": {
        "id": "5PwWSefhCGBC"
      }
    },
    {
      "cell_type": "code",
      "source": [
        "# Find max\n",
        "max_value = torch.max(resultant_matrix_tensor)\n",
        "\n",
        "# Find min\n",
        "min_value = torch.min(resultant_matrix_tensor)\n",
        "\n",
        "print(\"Max Value\", max_value.item(),'\\n',\"Min Value\", min_value.item())"
      ],
      "metadata": {
        "colab": {
          "base_uri": "https://localhost:8080/"
        },
        "id": "VN_Bfv3LDDXY",
        "outputId": "f0eae35b-3412-4298-e500-9610e24ae953"
      },
      "execution_count": null,
      "outputs": [
        {
          "output_type": "stream",
          "name": "stdout",
          "text": [
            "Max Value 0.7667766809463501 \n",
            " Min Value 0.27863210439682007\n"
          ]
        }
      ]
    },
    {
      "cell_type": "markdown",
      "source": [
        "## 8. Find the maximum and minimum index values of the output of 6."
      ],
      "metadata": {
        "id": "HdPtokk-Hl6Q"
      }
    },
    {
      "cell_type": "code",
      "source": [
        "# Find arg max\n",
        "max_num_index = resultant_matrix_tensor.argmax()\n",
        "\n",
        "# Find arg min\n",
        "min_num_index = resultant_matrix_tensor.argmin()\n",
        "\n",
        "print(\"Max number index:\", max_num_index.item())\n",
        "print(\"Min number index:\", min_num_index.item())"
      ],
      "metadata": {
        "colab": {
          "base_uri": "https://localhost:8080/"
        },
        "id": "v29oFmj_IBof",
        "outputId": "7cda711b-89fb-4eee-818e-7c936129cf59"
      },
      "execution_count": null,
      "outputs": [
        {
          "output_type": "stream",
          "name": "stdout",
          "text": [
            "Max number index: 1\n",
            "Min number index: 0\n"
          ]
        }
      ]
    },
    {
      "cell_type": "markdown",
      "source": [
        "## 9. Make a random tensor with shape (1, 1, 1, 10) and then create a new tensor with all the 1 dimensions removed to be left with a tensor of shape (10). Set the seed to 7 when you create it and print out the first tensor and it's shape as well as the second tensor and it's shape."
      ],
      "metadata": {
        "id": "zdhUBnjoIqBl"
      }
    },
    {
      "cell_type": "code",
      "source": [
        "import torch\n",
        "\n",
        "# Step 1: Set the seed for reproducibility\n",
        "torch.manual_seed(7)\n",
        "\n",
        "# Step 2: Create a random tensor with shape (1, 1, 1, 10)\n",
        "tensor_1 = torch.rand(1, 1, 1, 10)\n",
        "\n",
        "# Step 3: Remove all dimensions of size 1 from the tensor\n",
        "tensor_2 = tensor_1.squeeze()\n",
        "\n",
        "# Step 4: Print out the first tensor and its shape, as well as the second tensor and its shape\n",
        "print(\"First tensor:\", tensor_1)\n",
        "print(\"First tensor shape:\", tensor_1.shape)\n",
        "print(\"Second tensor:\", tensor_2)\n",
        "print(\"Second tensor shape:\", tensor_2.shape)\n"
      ],
      "metadata": {
        "colab": {
          "base_uri": "https://localhost:8080/"
        },
        "id": "ZZ2S-iF9Jh60",
        "outputId": "f69d64b3-3373-4f24-fa46-e27f02f5ba04"
      },
      "execution_count": null,
      "outputs": [
        {
          "output_type": "stream",
          "name": "stdout",
          "text": [
            "First tensor: tensor([[[[-0.1468,  0.7861,  0.9468, -1.1143,  1.6908, -0.8948, -0.3556,\n",
            "            1.2324,  0.1382, -1.6822]]]])\n",
            "First tensor shape: torch.Size([1, 1, 1, 10])\n",
            "Second tensor: tensor([-0.1468,  0.7861,  0.9468, -1.1143,  1.6908, -0.8948, -0.3556,  1.2324,\n",
            "         0.1382, -1.6822])\n",
            "Second tensor shape: torch.Size([10])\n"
          ]
        }
      ]
    },
    {
      "cell_type": "markdown",
      "source": [
        "##  `torch.rand()` and `torch.randn()` are both functions provided by the PyTorch library for generating random tensors, but they differ in the distribution of the generated random numbers:"
      ],
      "metadata": {
        "id": "d54KHBvKecTC"
      }
    },
    {
      "cell_type": "code",
      "source": [
        "import torch\n",
        "import matplotlib.pyplot as plt\n",
        "\n",
        "random_number_with_uniform_distribution = torch.rand(1000)\n",
        "random_number_with_normal_distribution = torch.randn(1000)\n",
        "\n",
        "plt.figure(figsize=(10, 5))\n",
        "\n",
        "plt.subplot(1, 2, 1)\n",
        "plt.hist(x=random_number_with_uniform_distribution.numpy(), bins=50, color=\"r\", alpha=0.7)\n",
        "plt.title(\"Uniform Distribution\")\n",
        "plt.xlabel(\"Value\")\n",
        "plt.ylabel(\"Frequency\")\n",
        "\n",
        "plt.subplot(1, 2, 2)\n",
        "plt.hist(x=random_number_with_normal_distribution.numpy(), bins=50, color='b', alpha=0.7)\n",
        "plt.title(\"Normal Distribution\")\n",
        "plt.xlabel(\"Value\")\n",
        "plt.ylabel(\"Frequncy\")\n",
        "\n",
        "plt.tight_layout()\n",
        "plt.show()\n",
        "\n",
        "\n"
      ],
      "metadata": {
        "colab": {
          "base_uri": "https://localhost:8080/",
          "height": 329
        },
        "id": "s2rI0LCwepUQ",
        "outputId": "6e44d6dc-6450-48cf-ec3b-c652f0747186"
      },
      "execution_count": null,
      "outputs": [
        {
          "output_type": "display_data",
          "data": {
            "text/plain": [
              "<Figure size 1000x500 with 2 Axes>"
            ],
            "image/png": "[encoded data removed]"
          },
          "metadata": {}
        }
      ]
    },
    {
      "cell_type": "code",
      "source": [],
      "metadata": {
        "id": "G4NaXqXAhz5c"
      },
      "execution_count": null,
      "outputs": []
    }
  ]
}